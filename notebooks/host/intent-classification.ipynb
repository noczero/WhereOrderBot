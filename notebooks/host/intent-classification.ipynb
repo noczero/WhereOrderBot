{
 "cells": [
  {
   "cell_type": "markdown",
   "source": [
    "# Preprocessing Data"
   ],
   "metadata": {
    "collapsed": false
   }
  },
  {
   "cell_type": "code",
   "execution_count": 4,
   "outputs": [],
   "source": [
    "import pandas as pd\n",
    "import numpy as np"
   ],
   "metadata": {
    "collapsed": false
   }
  },
  {
   "cell_type": "code",
   "execution_count": 5,
   "outputs": [
    {
     "data": {
      "text/plain": "            category                                              email\n0  where_is_my_order  Hello, just checking in on the status of my or...\n1  where_is_my_order  It's getting frustrating not knowing where my ...\n2              other  Hi there, I am organizing a charity event for ...\n3  where_is_my_order  Hey, I recently ordered a custom mechanical ke...\n4  where_is_my_order  Hello, I haven't received any updates regardin...",
      "text/html": "<div>\n<style scoped>\n    .dataframe tbody tr th:only-of-type {\n        vertical-align: middle;\n    }\n\n    .dataframe tbody tr th {\n        vertical-align: top;\n    }\n\n    .dataframe thead th {\n        text-align: right;\n    }\n</style>\n<table border=\"1\" class=\"dataframe\">\n  <thead>\n    <tr style=\"text-align: right;\">\n      <th></th>\n      <th>category</th>\n      <th>email</th>\n    </tr>\n  </thead>\n  <tbody>\n    <tr>\n      <th>0</th>\n      <td>where_is_my_order</td>\n      <td>Hello, just checking in on the status of my or...</td>\n    </tr>\n    <tr>\n      <th>1</th>\n      <td>where_is_my_order</td>\n      <td>It's getting frustrating not knowing where my ...</td>\n    </tr>\n    <tr>\n      <th>2</th>\n      <td>other</td>\n      <td>Hi there, I am organizing a charity event for ...</td>\n    </tr>\n    <tr>\n      <th>3</th>\n      <td>where_is_my_order</td>\n      <td>Hey, I recently ordered a custom mechanical ke...</td>\n    </tr>\n    <tr>\n      <th>4</th>\n      <td>where_is_my_order</td>\n      <td>Hello, I haven't received any updates regardin...</td>\n    </tr>\n  </tbody>\n</table>\n</div>"
     },
     "execution_count": 5,
     "metadata": {},
     "output_type": "execute_result"
    }
   ],
   "source": [
    "data_path = \"../data/raw-dataset.xlsx\"\n",
    "dataset = pd.read_excel(data_path)\n",
    "dataset.head()"
   ],
   "metadata": {
    "collapsed": false
   }
  },
  {
   "cell_type": "code",
   "execution_count": 6,
   "outputs": [
    {
     "data": {
      "text/plain": "<Axes: xlabel='category'>"
     },
     "execution_count": 6,
     "metadata": {},
     "output_type": "execute_result"
    },
    {
     "data": {
      "text/plain": "<Figure size 640x480 with 1 Axes>",
      "image/png": "[encoded data removed]"
     },
     "metadata": {},
     "output_type": "display_data"
    }
   ],
   "source": [
    "dataset.groupby(['category']).size().plot.bar()"
   ],
   "metadata": {
    "collapsed": false
   }
  },
  {
   "cell_type": "code",
   "execution_count": 7,
   "outputs": [
    {
     "data": {
      "text/plain": "['where_is_my_order',\n 'other',\n 'feedback',\n 'general_enquiry',\n 'refund_question',\n 'spam']"
     },
     "execution_count": 7,
     "metadata": {},
     "output_type": "execute_result"
    }
   ],
   "source": [
    "list(dataset.category.unique())"
   ],
   "metadata": {
    "collapsed": false
   }
  },
  {
   "cell_type": "code",
   "execution_count": 8,
   "outputs": [
    {
     "data": {
      "text/plain": "            category                                           question  label\n0  where_is_my_order  Hello, just checking in on the status of my or...      5\n1  where_is_my_order  It's getting frustrating not knowing where my ...      5\n2              other  Hi there, I am organizing a charity event for ...      2\n3  where_is_my_order  Hey, I recently ordered a custom mechanical ke...      5\n4  where_is_my_order  Hello, I haven't received any updates regardin...      5",
      "text/html": "<div>\n<style scoped>\n    .dataframe tbody tr th:only-of-type {\n        vertical-align: middle;\n    }\n\n    .dataframe tbody tr th {\n        vertical-align: top;\n    }\n\n    .dataframe thead th {\n        text-align: right;\n    }\n</style>\n<table border=\"1\" class=\"dataframe\">\n  <thead>\n    <tr style=\"text-align: right;\">\n      <th></th>\n      <th>category</th>\n      <th>question</th>\n      <th>label</th>\n    </tr>\n  </thead>\n  <tbody>\n    <tr>\n      <th>0</th>\n      <td>where_is_my_order</td>\n      <td>Hello, just checking in on the status of my or...</td>\n      <td>5</td>\n    </tr>\n    <tr>\n      <th>1</th>\n      <td>where_is_my_order</td>\n      <td>It's getting frustrating not knowing where my ...</td>\n      <td>5</td>\n    </tr>\n    <tr>\n      <th>2</th>\n      <td>other</td>\n      <td>Hi there, I am organizing a charity event for ...</td>\n      <td>2</td>\n    </tr>\n    <tr>\n      <th>3</th>\n      <td>where_is_my_order</td>\n      <td>Hey, I recently ordered a custom mechanical ke...</td>\n      <td>5</td>\n    </tr>\n    <tr>\n      <th>4</th>\n      <td>where_is_my_order</td>\n      <td>Hello, I haven't received any updates regardin...</td>\n      <td>5</td>\n    </tr>\n  </tbody>\n</table>\n</div>"
     },
     "execution_count": 8,
     "metadata": {},
     "output_type": "execute_result"
    }
   ],
   "source": [
    "# define label\n",
    "labels = {\n",
    "    'feedback' : 0,\n",
    "    'general_enquiry' : 1,\n",
    "    'other' : 2,\n",
    "    'refund_question' : 3,\n",
    "    'spam' : 4,\n",
    "    'where_is_my_order' : 5\n",
    "}\n",
    "\n",
    "# convert category to label\n",
    "def label_encoder(category:str) -> int :\n",
    "    return labels[category]\n",
    "\n",
    "# add label column with categorical-label mapping\n",
    "dataset['label'] = dataset['category'].apply(lambda label: label_encoder(label))\n",
    "\n",
    "# rename email column to question\n",
    "dataset.rename(columns = {'email':'question'}, inplace = True)\n",
    "dataset.head()"
   ],
   "metadata": {
    "collapsed": false
   }
  },
  {
   "cell_type": "code",
   "execution_count": 9,
   "outputs": [
    {
     "data": {
      "text/plain": "[5,\n 5,\n 2,\n 5,\n 5,\n 0,\n 5,\n 5,\n 1,\n 5,\n 2,\n 5,\n 5,\n 1,\n 1,\n 3,\n 1,\n 2,\n 5,\n 5,\n 5,\n 5,\n 5,\n 5,\n 2,\n 5,\n 5,\n 0,\n 1,\n 5,\n 5,\n 5,\n 5,\n 5,\n 2,\n 5,\n 3,\n 3,\n 5,\n 0,\n 3,\n 5,\n 5,\n 5,\n 5,\n 0,\n 4,\n 5,\n 4,\n 5,\n 2,\n 5,\n 2,\n 5,\n 5,\n 5,\n 2,\n 0,\n 3,\n 5,\n 5,\n 5,\n 5,\n 5,\n 2,\n 5,\n 5,\n 0,\n 0,\n 5,\n 2,\n 5,\n 5,\n 5,\n 1,\n 4,\n 5,\n 2,\n 0,\n 5,\n 2,\n 3,\n 1,\n 5,\n 4,\n 4,\n 5,\n 5,\n 3,\n 2,\n 2,\n 5,\n 3,\n 5,\n 2,\n 5,\n 2,\n 5,\n 5,\n 5,\n 5,\n 0,\n 2,\n 1,\n 1,\n 1,\n 1,\n 4,\n 5,\n 5,\n 4,\n 1,\n 5,\n 1,\n 1,\n 0,\n 0,\n 5,\n 1,\n 5,\n 5,\n 2,\n 5,\n 5,\n 2,\n 5,\n 0,\n 1,\n 5,\n 1,\n 5,\n 0,\n 5,\n 5,\n 5,\n 2,\n 5,\n 5,\n 5,\n 2,\n 5,\n 1,\n 5,\n 5,\n 5,\n 0,\n 5,\n 3,\n 5,\n 5,\n 1,\n 2,\n 5,\n 3,\n 3,\n 2,\n 5,\n 5,\n 1,\n 1,\n 5,\n 5,\n 1,\n 2,\n 5,\n 2,\n 4,\n 0,\n 5,\n 2,\n 4,\n 5,\n 4,\n 1,\n 2,\n 5,\n 5,\n 1,\n 5,\n 1,\n 5,\n 5,\n 4,\n 3,\n 5,\n 1,\n 5,\n 5,\n 5,\n 1,\n 5,\n 5,\n 5,\n 1,\n 2,\n 2,\n 5,\n 2,\n 5,\n 5,\n 3,\n 1,\n 1,\n 5,\n 5,\n 5,\n 2,\n 5,\n 5,\n 2,\n 5,\n 1,\n 5,\n 4,\n 2,\n 1,\n 5,\n 5,\n 0,\n 5,\n 0,\n 2,\n 3,\n 5,\n 2,\n 5,\n 5,\n 3,\n 5,\n 5,\n 3,\n 4,\n 5,\n 5,\n 1,\n 5,\n 2,\n 5,\n 1,\n 0,\n 5,\n 2,\n 1,\n 5,\n 5,\n 5,\n 1,\n 5,\n 5,\n 5,\n 0,\n 1,\n 5,\n 0,\n 5,\n 0,\n 5,\n 3,\n 3,\n 3,\n 5,\n 2,\n 2,\n 3,\n 2,\n 5,\n 5,\n 3,\n 0,\n 0,\n 4,\n 2,\n 1,\n 4,\n 3,\n 5,\n 5,\n 5,\n 5,\n 3,\n 5,\n 3,\n 5,\n 1,\n 2,\n 3,\n 5,\n 1,\n 5,\n 5,\n 5,\n 1,\n 1,\n 5,\n 5,\n 5,\n 3,\n 1,\n 5,\n 1,\n 5,\n 2,\n 0,\n 5,\n 3,\n 1,\n 5,\n 5,\n 0,\n 3,\n 5,\n 3,\n 5,\n 1,\n 5,\n 5,\n 5,\n 2,\n 2,\n 3,\n 2,\n 4,\n 5,\n 5,\n 5,\n 5,\n 5,\n 5,\n 3,\n 1,\n 5,\n 1,\n 5]"
     },
     "execution_count": 9,
     "metadata": {},
     "output_type": "execute_result"
    }
   ],
   "source": [
    "list(dataset['label'])"
   ],
   "metadata": {
    "collapsed": false
   }
  },
  {
   "cell_type": "code",
   "execution_count": 10,
   "outputs": [
    {
     "data": {
      "text/plain": "[5,\n 5,\n 2,\n 5,\n 5,\n 0,\n 5,\n 5,\n 1,\n 5,\n 2,\n 5,\n 5,\n 1,\n 1,\n 3,\n 1,\n 2,\n 5,\n 5,\n 5,\n 5,\n 5,\n 5,\n 2,\n 5,\n 5,\n 0,\n 1,\n 5,\n 5,\n 5,\n 5,\n 5,\n 2,\n 5,\n 3,\n 3,\n 5,\n 0,\n 3,\n 5,\n 5,\n 5,\n 5,\n 0,\n 4,\n 5,\n 4,\n 5,\n 2,\n 5,\n 2,\n 5,\n 5,\n 5,\n 2,\n 0,\n 3,\n 5,\n 5,\n 5,\n 5,\n 5,\n 2,\n 5,\n 5,\n 0,\n 0,\n 5,\n 2,\n 5,\n 5,\n 5,\n 1,\n 4,\n 5,\n 2,\n 0,\n 5,\n 2,\n 3,\n 1,\n 5,\n 4,\n 4,\n 5,\n 5,\n 3,\n 2,\n 2,\n 5,\n 3,\n 5,\n 2,\n 5,\n 2,\n 5,\n 5,\n 5,\n 5,\n 0,\n 2,\n 1,\n 1,\n 1,\n 1,\n 4,\n 5,\n 5,\n 4,\n 1,\n 5,\n 1,\n 1,\n 0,\n 0,\n 5,\n 1,\n 5,\n 5,\n 2,\n 5,\n 5,\n 2,\n 5,\n 0,\n 1,\n 5,\n 1,\n 5,\n 0,\n 5,\n 5,\n 5,\n 2,\n 5,\n 5,\n 5,\n 2,\n 5,\n 1,\n 5,\n 5,\n 5,\n 0,\n 5,\n 3,\n 5,\n 5,\n 1,\n 2,\n 5,\n 3,\n 3,\n 2,\n 5,\n 5,\n 1,\n 1,\n 5,\n 5,\n 1,\n 2,\n 5,\n 2,\n 4,\n 0,\n 5,\n 2,\n 4,\n 5,\n 4,\n 1,\n 2,\n 5,\n 5,\n 1,\n 5,\n 1,\n 5,\n 5,\n 4,\n 3,\n 5,\n 1,\n 5,\n 5,\n 5,\n 1,\n 5,\n 5,\n 5,\n 1,\n 2,\n 2,\n 5,\n 2,\n 5,\n 5,\n 3,\n 1,\n 1,\n 5,\n 5,\n 5,\n 2,\n 5,\n 5,\n 2,\n 5,\n 1,\n 5,\n 4,\n 2,\n 1,\n 5,\n 5,\n 0,\n 5,\n 0,\n 2,\n 3,\n 5,\n 2,\n 5,\n 5,\n 3,\n 5,\n 5,\n 3,\n 4,\n 5,\n 5,\n 1,\n 5,\n 2,\n 5,\n 1,\n 0,\n 5,\n 2,\n 1,\n 5,\n 5,\n 5,\n 1,\n 5,\n 5,\n 5,\n 0,\n 1,\n 5,\n 0,\n 5,\n 0,\n 5,\n 3,\n 3,\n 3,\n 5,\n 2,\n 2,\n 3,\n 2,\n 5,\n 5,\n 3,\n 0,\n 0,\n 4,\n 2,\n 1,\n 4,\n 3,\n 5,\n 5,\n 5,\n 5,\n 3,\n 5,\n 3,\n 5,\n 1,\n 2,\n 3,\n 5,\n 1,\n 5,\n 5,\n 5,\n 1,\n 1,\n 5,\n 5,\n 5,\n 3,\n 1,\n 5,\n 1,\n 5,\n 2,\n 0,\n 5,\n 3,\n 1,\n 5,\n 5,\n 0,\n 3,\n 5,\n 3,\n 5,\n 1,\n 5,\n 5,\n 5,\n 2,\n 2,\n 3,\n 2,\n 4,\n 5,\n 5,\n 5,\n 5,\n 5,\n 5,\n 3,\n 1,\n 5,\n 1,\n 5]"
     },
     "execution_count": 10,
     "metadata": {},
     "output_type": "execute_result"
    }
   ],
   "source": [
    "[labels[label] for label in dataset['category']]"
   ],
   "metadata": {
    "collapsed": false
   }
  },
  {
   "cell_type": "markdown",
   "source": [
    "# Split Dataset\n",
    "\n",
    "split our dataframe into training, validation, and test set with the proportion of 80:10:10."
   ],
   "metadata": {
    "collapsed": false
   }
  },
  {
   "cell_type": "code",
   "execution_count": 11,
   "outputs": [
    {
     "name": "stdout",
     "output_type": "stream",
     "text": [
      "266 33 34\n"
     ]
    }
   ],
   "source": [
    "seed_number=1\n",
    "np.random.seed(seed_number) # set same seed for keeping same result\n",
    "df_train, df_val, df_test = np.split(dataset.sample(frac=1, random_state=seed_number),\n",
    "                                     [int(.8*len(dataset)), int(.9*len(dataset))])\n",
    "\n",
    "print(len(df_train),len(df_val), len(df_test))"
   ],
   "metadata": {
    "collapsed": false
   }
  },
  {
   "cell_type": "code",
   "execution_count": 12,
   "outputs": [],
   "source": [
    "from transformers import BertTokenizer\n",
    "import torch\n",
    "\n",
    "tokenizer = BertTokenizer.from_pretrained('bert-base-cased')\n",
    "\n",
    "class Dataset(torch.utils.data.Dataset):\n",
    "\n",
    "    def __init__(self, df):\n",
    "\n",
    "        self.labels = list(df['label'])\n",
    "        self.texts = [tokenizer(text,\n",
    "                                padding='max_length',\n",
    "                                max_length = 512,\n",
    "                                truncation=True,\n",
    "                                return_tensors=\"pt\")\n",
    "                      for text in df['question']]\n",
    "\n",
    "    def classes(self):\n",
    "        return self.labels\n",
    "\n",
    "    def __len__(self):\n",
    "        return len(self.labels)\n",
    "\n",
    "    def get_batch_labels(self, idx):\n",
    "        # Fetch a batch of labels\n",
    "        return np.array(self.labels[idx])\n",
    "\n",
    "    def get_batch_texts(self, idx):\n",
    "        # Fetch a batch of inputs\n",
    "        return self.texts[idx]\n",
    "\n",
    "    def __getitem__(self, idx):\n",
    "\n",
    "        batch_texts = self.get_batch_texts(idx)\n",
    "        batch_y = self.get_batch_labels(idx)\n",
    "\n",
    "        return batch_texts, batch_y"
   ],
   "metadata": {
    "collapsed": false
   }
  },
  {
   "cell_type": "code",
   "execution_count": 13,
   "outputs": [],
   "source": [
    "from torch import nn\n",
    "from transformers import BertModel\n",
    "\n",
    "\n",
    "class BertClassifier(nn.Module):\n",
    "\n",
    "    def __init__(self, dropout=0.5):\n",
    "\n",
    "        super(BertClassifier, self).__init__()\n",
    "\n",
    "        self.bert = BertModel.from_pretrained('bert-base-cased')\n",
    "        self.dropout = nn.Dropout(dropout)\n",
    "        self.linear = nn.Linear(768, len(labels))\n",
    "        self.relu = nn.ReLU()\n",
    "\n",
    "    def forward(self, input_id, mask):\n",
    "\n",
    "        _, pooled_output = self.bert(input_ids= input_id, attention_mask=mask,return_dict=False)\n",
    "        dropout_output = self.dropout(pooled_output)\n",
    "        linear_output = self.linear(dropout_output)\n",
    "        final_layer = self.relu(linear_output)\n",
    "\n",
    "        return final_layer"
   ],
   "metadata": {
    "collapsed": false
   }
  },
  {
   "cell_type": "code",
   "execution_count": 14,
   "outputs": [
    {
     "data": {
      "text/plain": "50"
     },
     "execution_count": 14,
     "metadata": {},
     "output_type": "execute_result"
    }
   ],
   "source": [
    "import gc\n",
    "torch.cuda.empty_cache()\n",
    "gc.collect()"
   ],
   "metadata": {
    "collapsed": false
   }
  },
  {
   "cell_type": "code",
   "execution_count": 15,
   "outputs": [
    {
     "name": "stderr",
     "output_type": "stream",
     "text": [
      "Some weights of the model checkpoint at bert-base-cased were not used when initializing BertModel: ['cls.predictions.transform.LayerNorm.weight', 'cls.predictions.bias', 'cls.predictions.transform.LayerNorm.bias', 'cls.seq_relationship.bias', 'cls.predictions.transform.dense.bias', 'cls.predictions.decoder.weight', 'cls.seq_relationship.weight', 'cls.predictions.transform.dense.weight']\n",
      "- This IS expected if you are initializing BertModel from the checkpoint of a model trained on another task or with another architecture (e.g. initializing a BertForSequenceClassification model from a BertForPreTraining model).\n",
      "- This IS NOT expected if you are initializing BertModel from the checkpoint of a model that you expect to be exactly identical (initializing a BertForSequenceClassification model from a BertForSequenceClassification model).\n",
      "  0%|          | 0/133 [00:01<?, ?it/s]\n"
     ]
    },
    {
     "ename": "OutOfMemoryError",
     "evalue": "CUDA out of memory. Tried to allocate 20.00 MiB (GPU 0; 1.96 GiB total capacity; 1.40 GiB already allocated; 16.38 MiB free; 1.49 GiB reserved in total by PyTorch) If reserved memory is >> allocated memory try setting max_split_size_mb to avoid fragmentation.  See documentation for Memory Management and PYTORCH_CUDA_ALLOC_CONF",
     "output_type": "error",
     "traceback": [
      "\u001B[0;31m---------------------------------------------------------------------------\u001B[0m",
      "\u001B[0;31mOutOfMemoryError\u001B[0m                          Traceback (most recent call last)",
      "Cell \u001B[0;32mIn[15], line 74\u001B[0m\n\u001B[1;32m     71\u001B[0m model \u001B[38;5;241m=\u001B[39m BertClassifier()\n\u001B[1;32m     72\u001B[0m LR \u001B[38;5;241m=\u001B[39m \u001B[38;5;241m1e-6\u001B[39m\n\u001B[0;32m---> 74\u001B[0m \u001B[43mtrain\u001B[49m\u001B[43m(\u001B[49m\u001B[43mmodel\u001B[49m\u001B[43m,\u001B[49m\u001B[43m \u001B[49m\u001B[43mdf_train\u001B[49m\u001B[43m,\u001B[49m\u001B[43m \u001B[49m\u001B[43mdf_val\u001B[49m\u001B[43m,\u001B[49m\u001B[43m \u001B[49m\u001B[43mLR\u001B[49m\u001B[43m,\u001B[49m\u001B[43m \u001B[49m\u001B[43mEPOCHS\u001B[49m\u001B[43m)\u001B[49m\n",
      "Cell \u001B[0;32mIn[15], line 43\u001B[0m, in \u001B[0;36mtrain\u001B[0;34m(model, train_data, val_data, learning_rate, epochs)\u001B[0m\n\u001B[1;32m     41\u001B[0m     model\u001B[38;5;241m.\u001B[39mzero_grad()\n\u001B[1;32m     42\u001B[0m     batch_loss\u001B[38;5;241m.\u001B[39mbackward()\n\u001B[0;32m---> 43\u001B[0m     \u001B[43moptimizer\u001B[49m\u001B[38;5;241;43m.\u001B[39;49m\u001B[43mstep\u001B[49m\u001B[43m(\u001B[49m\u001B[43m)\u001B[49m\n\u001B[1;32m     45\u001B[0m total_acc_val \u001B[38;5;241m=\u001B[39m \u001B[38;5;241m0\u001B[39m\n\u001B[1;32m     46\u001B[0m total_loss_val \u001B[38;5;241m=\u001B[39m \u001B[38;5;241m0\u001B[39m\n",
      "File \u001B[0;32m~/anaconda3/envs/WhereOrderBot/lib/python3.10/site-packages/torch/optim/optimizer.py:280\u001B[0m, in \u001B[0;36mOptimizer.profile_hook_step.<locals>.wrapper\u001B[0;34m(*args, **kwargs)\u001B[0m\n\u001B[1;32m    276\u001B[0m         \u001B[38;5;28;01melse\u001B[39;00m:\n\u001B[1;32m    277\u001B[0m             \u001B[38;5;28;01mraise\u001B[39;00m \u001B[38;5;167;01mRuntimeError\u001B[39;00m(\u001B[38;5;124mf\u001B[39m\u001B[38;5;124m\"\u001B[39m\u001B[38;5;132;01m{\u001B[39;00mfunc\u001B[38;5;132;01m}\u001B[39;00m\u001B[38;5;124m must return None or a tuple of (new_args, new_kwargs),\u001B[39m\u001B[38;5;124m\"\u001B[39m\n\u001B[1;32m    278\u001B[0m                                \u001B[38;5;124mf\u001B[39m\u001B[38;5;124m\"\u001B[39m\u001B[38;5;124mbut got \u001B[39m\u001B[38;5;132;01m{\u001B[39;00mresult\u001B[38;5;132;01m}\u001B[39;00m\u001B[38;5;124m.\u001B[39m\u001B[38;5;124m\"\u001B[39m)\n\u001B[0;32m--> 280\u001B[0m out \u001B[38;5;241m=\u001B[39m \u001B[43mfunc\u001B[49m\u001B[43m(\u001B[49m\u001B[38;5;241;43m*\u001B[39;49m\u001B[43margs\u001B[49m\u001B[43m,\u001B[49m\u001B[43m \u001B[49m\u001B[38;5;241;43m*\u001B[39;49m\u001B[38;5;241;43m*\u001B[39;49m\u001B[43mkwargs\u001B[49m\u001B[43m)\u001B[49m\n\u001B[1;32m    281\u001B[0m \u001B[38;5;28mself\u001B[39m\u001B[38;5;241m.\u001B[39m_optimizer_step_code()\n\u001B[1;32m    283\u001B[0m \u001B[38;5;66;03m# call optimizer step post hooks\u001B[39;00m\n",
      "File \u001B[0;32m~/anaconda3/envs/WhereOrderBot/lib/python3.10/site-packages/torch/optim/optimizer.py:33\u001B[0m, in \u001B[0;36m_use_grad_for_differentiable.<locals>._use_grad\u001B[0;34m(self, *args, **kwargs)\u001B[0m\n\u001B[1;32m     31\u001B[0m \u001B[38;5;28;01mtry\u001B[39;00m:\n\u001B[1;32m     32\u001B[0m     torch\u001B[38;5;241m.\u001B[39mset_grad_enabled(\u001B[38;5;28mself\u001B[39m\u001B[38;5;241m.\u001B[39mdefaults[\u001B[38;5;124m'\u001B[39m\u001B[38;5;124mdifferentiable\u001B[39m\u001B[38;5;124m'\u001B[39m])\n\u001B[0;32m---> 33\u001B[0m     ret \u001B[38;5;241m=\u001B[39m \u001B[43mfunc\u001B[49m\u001B[43m(\u001B[49m\u001B[38;5;28;43mself\u001B[39;49m\u001B[43m,\u001B[49m\u001B[43m \u001B[49m\u001B[38;5;241;43m*\u001B[39;49m\u001B[43margs\u001B[49m\u001B[43m,\u001B[49m\u001B[43m \u001B[49m\u001B[38;5;241;43m*\u001B[39;49m\u001B[38;5;241;43m*\u001B[39;49m\u001B[43mkwargs\u001B[49m\u001B[43m)\u001B[49m\n\u001B[1;32m     34\u001B[0m \u001B[38;5;28;01mfinally\u001B[39;00m:\n\u001B[1;32m     35\u001B[0m     torch\u001B[38;5;241m.\u001B[39mset_grad_enabled(prev_grad)\n",
      "File \u001B[0;32m~/anaconda3/envs/WhereOrderBot/lib/python3.10/site-packages/torch/optim/adam.py:132\u001B[0m, in \u001B[0;36mAdam.step\u001B[0;34m(self, closure)\u001B[0m\n\u001B[1;32m    129\u001B[0m     state_steps \u001B[38;5;241m=\u001B[39m []\n\u001B[1;32m    130\u001B[0m     beta1, beta2 \u001B[38;5;241m=\u001B[39m group[\u001B[38;5;124m'\u001B[39m\u001B[38;5;124mbetas\u001B[39m\u001B[38;5;124m'\u001B[39m]\n\u001B[0;32m--> 132\u001B[0m     \u001B[38;5;28;43mself\u001B[39;49m\u001B[38;5;241;43m.\u001B[39;49m\u001B[43m_init_group\u001B[49m\u001B[43m(\u001B[49m\n\u001B[1;32m    133\u001B[0m \u001B[43m        \u001B[49m\u001B[43mgroup\u001B[49m\u001B[43m,\u001B[49m\n\u001B[1;32m    134\u001B[0m \u001B[43m        \u001B[49m\u001B[43mparams_with_grad\u001B[49m\u001B[43m,\u001B[49m\n\u001B[1;32m    135\u001B[0m \u001B[43m        \u001B[49m\u001B[43mgrads\u001B[49m\u001B[43m,\u001B[49m\n\u001B[1;32m    136\u001B[0m \u001B[43m        \u001B[49m\u001B[43mexp_avgs\u001B[49m\u001B[43m,\u001B[49m\n\u001B[1;32m    137\u001B[0m \u001B[43m        \u001B[49m\u001B[43mexp_avg_sqs\u001B[49m\u001B[43m,\u001B[49m\n\u001B[1;32m    138\u001B[0m \u001B[43m        \u001B[49m\u001B[43mmax_exp_avg_sqs\u001B[49m\u001B[43m,\u001B[49m\n\u001B[1;32m    139\u001B[0m \u001B[43m        \u001B[49m\u001B[43mstate_steps\u001B[49m\u001B[43m)\u001B[49m\n\u001B[1;32m    141\u001B[0m     adam(\n\u001B[1;32m    142\u001B[0m         params_with_grad,\n\u001B[1;32m    143\u001B[0m         grads,\n\u001B[0;32m   (...)\u001B[0m\n\u001B[1;32m    160\u001B[0m         found_inf\u001B[38;5;241m=\u001B[39m\u001B[38;5;28mgetattr\u001B[39m(\u001B[38;5;28mself\u001B[39m, \u001B[38;5;124m\"\u001B[39m\u001B[38;5;124mfound_inf\u001B[39m\u001B[38;5;124m\"\u001B[39m, \u001B[38;5;28;01mNone\u001B[39;00m),\n\u001B[1;32m    161\u001B[0m     )\n\u001B[1;32m    163\u001B[0m \u001B[38;5;28;01mreturn\u001B[39;00m loss\n",
      "File \u001B[0;32m~/anaconda3/envs/WhereOrderBot/lib/python3.10/site-packages/torch/optim/adam.py:94\u001B[0m, in \u001B[0;36mAdam._init_group\u001B[0;34m(self, group, params_with_grad, grads, exp_avgs, exp_avg_sqs, max_exp_avg_sqs, state_steps)\u001B[0m\n\u001B[1;32m     92\u001B[0m state[\u001B[38;5;124m'\u001B[39m\u001B[38;5;124mexp_avg\u001B[39m\u001B[38;5;124m'\u001B[39m] \u001B[38;5;241m=\u001B[39m torch\u001B[38;5;241m.\u001B[39mzeros_like(p, memory_format\u001B[38;5;241m=\u001B[39mtorch\u001B[38;5;241m.\u001B[39mpreserve_format)\n\u001B[1;32m     93\u001B[0m \u001B[38;5;66;03m# Exponential moving average of squared gradient values\u001B[39;00m\n\u001B[0;32m---> 94\u001B[0m state[\u001B[38;5;124m'\u001B[39m\u001B[38;5;124mexp_avg_sq\u001B[39m\u001B[38;5;124m'\u001B[39m] \u001B[38;5;241m=\u001B[39m \u001B[43mtorch\u001B[49m\u001B[38;5;241;43m.\u001B[39;49m\u001B[43mzeros_like\u001B[49m\u001B[43m(\u001B[49m\u001B[43mp\u001B[49m\u001B[43m,\u001B[49m\u001B[43m \u001B[49m\u001B[43mmemory_format\u001B[49m\u001B[38;5;241;43m=\u001B[39;49m\u001B[43mtorch\u001B[49m\u001B[38;5;241;43m.\u001B[39;49m\u001B[43mpreserve_format\u001B[49m\u001B[43m)\u001B[49m\n\u001B[1;32m     95\u001B[0m \u001B[38;5;28;01mif\u001B[39;00m group[\u001B[38;5;124m'\u001B[39m\u001B[38;5;124mamsgrad\u001B[39m\u001B[38;5;124m'\u001B[39m]:\n\u001B[1;32m     96\u001B[0m     \u001B[38;5;66;03m# Maintains max of all exp. moving avg. of sq. grad. values\u001B[39;00m\n\u001B[1;32m     97\u001B[0m     state[\u001B[38;5;124m'\u001B[39m\u001B[38;5;124mmax_exp_avg_sq\u001B[39m\u001B[38;5;124m'\u001B[39m] \u001B[38;5;241m=\u001B[39m torch\u001B[38;5;241m.\u001B[39mzeros_like(p, memory_format\u001B[38;5;241m=\u001B[39mtorch\u001B[38;5;241m.\u001B[39mpreserve_format)\n",
      "\u001B[0;31mOutOfMemoryError\u001B[0m: CUDA out of memory. Tried to allocate 20.00 MiB (GPU 0; 1.96 GiB total capacity; 1.40 GiB already allocated; 16.38 MiB free; 1.49 GiB reserved in total by PyTorch) If reserved memory is >> allocated memory try setting max_split_size_mb to avoid fragmentation.  See documentation for Memory Management and PYTORCH_CUDA_ALLOC_CONF"
     ]
    }
   ],
   "source": [
    "from torch.optim import Adam\n",
    "from tqdm import tqdm\n",
    "\n",
    "def train(model, train_data, val_data, learning_rate, epochs):\n",
    "\n",
    "    train, val = Dataset(train_data), Dataset(val_data)\n",
    "\n",
    "    train_dataloader = torch.utils.data.DataLoader(train, batch_size=2, shuffle=True)\n",
    "    val_dataloader = torch.utils.data.DataLoader(val, batch_size=2)\n",
    "\n",
    "    use_cuda = torch.cuda.is_available()\n",
    "    device = torch.device(\"cuda\" if use_cuda else \"cpu\")\n",
    "\n",
    "    criterion = nn.CrossEntropyLoss()\n",
    "    optimizer = Adam(model.parameters(), lr= learning_rate)\n",
    "\n",
    "    if use_cuda:\n",
    "\n",
    "            model = model.cuda()\n",
    "            criterion = criterion.cuda()\n",
    "\n",
    "    for epoch_num in range(epochs):\n",
    "\n",
    "            total_acc_train = 0\n",
    "            total_loss_train = 0\n",
    "\n",
    "            for train_input, train_label in tqdm(train_dataloader):\n",
    "\n",
    "                train_label = train_label.to(device)\n",
    "                mask = train_input['attention_mask'].to(device)\n",
    "                input_id = train_input['input_ids'].squeeze(1).to(device)\n",
    "\n",
    "                output = model(input_id, mask)\n",
    "\n",
    "                batch_loss = criterion(output, train_label.long())\n",
    "                total_loss_train += batch_loss.item()\n",
    "\n",
    "                acc = (output.argmax(dim=1) == train_label).sum().item()\n",
    "                total_acc_train += acc\n",
    "\n",
    "                model.zero_grad()\n",
    "                batch_loss.backward()\n",
    "                optimizer.step()\n",
    "\n",
    "            total_acc_val = 0\n",
    "            total_loss_val = 0\n",
    "\n",
    "            with torch.no_grad():\n",
    "\n",
    "                for val_input, val_label in val_dataloader:\n",
    "\n",
    "                    val_label = val_label.to(device)\n",
    "                    mask = val_input['attention_mask'].to(device)\n",
    "                    input_id = val_input['input_ids'].squeeze(1).to(device)\n",
    "\n",
    "                    output = model(input_id, mask)\n",
    "\n",
    "                    batch_loss = criterion(output, val_label.long())\n",
    "                    total_loss_val += batch_loss.item()\n",
    "\n",
    "                    acc = (output.argmax(dim=1) == val_label).sum().item()\n",
    "                    total_acc_val += acc\n",
    "\n",
    "            print(\n",
    "                f'Epochs: {epoch_num + 1} | Train Loss: {total_loss_train / len(train_data): .3f} \\\n",
    "                | Train Accuracy: {total_acc_train / len(train_data): .3f} \\\n",
    "                | Val Loss: {total_loss_val / len(val_data): .3f} \\\n",
    "                | Val Accuracy: {total_acc_val / len(val_data): .3f}')\n",
    "\n",
    "EPOCHS = 5\n",
    "model = BertClassifier()\n",
    "LR = 1e-6\n",
    "\n",
    "train(model, df_train, df_val, LR, EPOCHS)"
   ],
   "metadata": {
    "collapsed": false
   }
  },
  {
   "cell_type": "markdown",
   "source": [],
   "metadata": {
    "collapsed": false
   }
  }
 ],
 "metadata": {
  "kernelspec": {
   "display_name": "Python 3",
   "language": "python",
   "name": "python3"
  },
  "language_info": {
   "codemirror_mode": {
    "name": "ipython",
    "version": 2
   },
   "file_extension": ".py",
   "mimetype": "text/x-python",
   "name": "python",
   "nbconvert_exporter": "python",
   "pygments_lexer": "ipython2",
   "version": "2.7.6"
  }
 },
 "nbformat": 4,
 "nbformat_minor": 0
}
