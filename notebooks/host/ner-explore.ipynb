{
 "cells": [
  {
   "cell_type": "code",
   "execution_count": 1,
   "metadata": {
    "collapsed": true
   },
   "outputs": [],
   "source": [
    "from transformers import pipeline\n",
    "\n",
    "# NER MODEL\n",
    "ner = pipeline(task=\"ner\",model=\"vblagoje/bert-english-uncased-finetuned-pos\")\n",
    "result = ner(\"Dear Support Team,\\nFirstly, could we get an idea on how long orders like mine (order ref# AA111B) generally take before their delivery status progresses further? Secondly, what exactly are stabilizers and why should one consider upgrading lubed variants?\\nYour assistance will be much appreciated.\")"
   ]
  },
  {
   "cell_type": "code",
   "execution_count": 3,
   "outputs": [
    {
     "name": "stdout",
     "output_type": "stream",
     "text": [
      "{'entity': 'NUM', 'score': 0.765352, 'index': 23, 'word': '##11', 'start': 92, 'end': 94}\n",
      "{'entity': 'NUM', 'score': 0.5837095, 'index': 24, 'word': '##1', 'start': 94, 'end': 95}\n"
     ]
    }
   ],
   "source": [
    "for data in result:\n",
    "    if data['entity'] == 'NUM':\n",
    "        print(data)"
   ],
   "metadata": {
    "collapsed": false
   }
  },
  {
   "cell_type": "code",
   "execution_count": 131,
   "outputs": [],
   "source": [
    "import pandas as pd\n",
    "\n",
    "data_path = \"../data/raw-dataset.xlsx\"\n",
    "dataset = pd.read_excel(data_path)\n",
    "dataset.head()\n",
    "# rename email column to question\n",
    "dataset.rename(columns = {'email':'question'}, inplace = True)"
   ],
   "metadata": {
    "collapsed": false
   }
  },
  {
   "cell_type": "code",
   "execution_count": 132,
   "outputs": [
    {
     "data": {
      "text/plain": "            category                                           question\n0  where_is_my_order  Hello, just checking in on the status of my or...\n1  where_is_my_order  It's getting frustrating not knowing where my ...\n3  where_is_my_order  Hey, I recently ordered a custom mechanical ke...\n4  where_is_my_order  Hello, I haven't received any updates regardin...\n6  where_is_my_order  Subject: me not find order where is keybord\\n\\...",
      "text/html": "<div>\n<style scoped>\n    .dataframe tbody tr th:only-of-type {\n        vertical-align: middle;\n    }\n\n    .dataframe tbody tr th {\n        vertical-align: top;\n    }\n\n    .dataframe thead th {\n        text-align: right;\n    }\n</style>\n<table border=\"1\" class=\"dataframe\">\n  <thead>\n    <tr style=\"text-align: right;\">\n      <th></th>\n      <th>category</th>\n      <th>question</th>\n    </tr>\n  </thead>\n  <tbody>\n    <tr>\n      <th>0</th>\n      <td>where_is_my_order</td>\n      <td>Hello, just checking in on the status of my or...</td>\n    </tr>\n    <tr>\n      <th>1</th>\n      <td>where_is_my_order</td>\n      <td>It's getting frustrating not knowing where my ...</td>\n    </tr>\n    <tr>\n      <th>3</th>\n      <td>where_is_my_order</td>\n      <td>Hey, I recently ordered a custom mechanical ke...</td>\n    </tr>\n    <tr>\n      <th>4</th>\n      <td>where_is_my_order</td>\n      <td>Hello, I haven't received any updates regardin...</td>\n    </tr>\n    <tr>\n      <th>6</th>\n      <td>where_is_my_order</td>\n      <td>Subject: me not find order where is keybord\\n\\...</td>\n    </tr>\n  </tbody>\n</table>\n</div>"
     },
     "execution_count": 132,
     "metadata": {},
     "output_type": "execute_result"
    }
   ],
   "source": [
    "wmo_filtered_dataset = dataset[dataset[\"category\"] == \"where_is_my_order\"]\n",
    "wmo_filtered_dataset.head()"
   ],
   "metadata": {
    "collapsed": false
   }
  },
  {
   "cell_type": "code",
   "execution_count": 133,
   "outputs": [
    {
     "data": {
      "text/plain": "167"
     },
     "execution_count": 133,
     "metadata": {},
     "output_type": "execute_result"
    }
   ],
   "source": [
    "len(wmo_filtered_dataset)"
   ],
   "metadata": {
    "collapsed": false
   }
  },
  {
   "cell_type": "code",
   "execution_count": 134,
   "outputs": [],
   "source": [
    "def split_text_to_word(text):\n",
    "    return \"x\""
   ],
   "metadata": {
    "collapsed": false
   }
  },
  {
   "cell_type": "code",
   "execution_count": 135,
   "outputs": [
    {
     "data": {
      "text/plain": "0    [Hello,, just, checking, in, on, the, status, ...\n1    [It's, getting, frustrating, not, knowing, whe...\n3    [Hey,, I, recently, ordered, a, custom, mechan...\n4    [Hello,, I, haven't, received, any, updates, r...\n6    [Subject:, me, not, find, order, where, is, ke...\nName: question, dtype: object"
     },
     "execution_count": 135,
     "metadata": {},
     "output_type": "execute_result"
    }
   ],
   "source": [
    "df_tokens = wmo_filtered_dataset['question'].str.split()\n",
    "df_tokens.head()"
   ],
   "metadata": {
    "collapsed": false
   }
  },
  {
   "cell_type": "code",
   "execution_count": 136,
   "outputs": [
    {
     "data": {
      "text/plain": "              category                                           question\n0    where_is_my_order   I have order with #123412 (123123) AASDAS #ASDAS\n1    where_is_my_order  Hello, just checking in on the status of my or...\n2    where_is_my_order  It's getting frustrating not knowing where my ...\n3    where_is_my_order  Hey, I recently ordered a custom mechanical ke...\n4    where_is_my_order  Hello, I haven't received any updates regardin...\n..                 ...                                                ...\n163  where_is_my_order  Dear Support,\\nI ordered a custom mech keyboar...\n164  where_is_my_order  Hi, I ordered a custom mechanical keyboard fro...\n165  where_is_my_order  Dear Customer Support Team,\\n\\nI have recently...\n166  where_is_my_order  Hello, just wondering when I should expect my ...\n167  where_is_my_order  Hello, I placed an order for a custom mechanic...\n\n[168 rows x 2 columns]",
      "text/html": "<div>\n<style scoped>\n    .dataframe tbody tr th:only-of-type {\n        vertical-align: middle;\n    }\n\n    .dataframe tbody tr th {\n        vertical-align: top;\n    }\n\n    .dataframe thead th {\n        text-align: right;\n    }\n</style>\n<table border=\"1\" class=\"dataframe\">\n  <thead>\n    <tr style=\"text-align: right;\">\n      <th></th>\n      <th>category</th>\n      <th>question</th>\n    </tr>\n  </thead>\n  <tbody>\n    <tr>\n      <th>0</th>\n      <td>where_is_my_order</td>\n      <td>I have order with #123412 (123123) AASDAS #ASDAS</td>\n    </tr>\n    <tr>\n      <th>1</th>\n      <td>where_is_my_order</td>\n      <td>Hello, just checking in on the status of my or...</td>\n    </tr>\n    <tr>\n      <th>2</th>\n      <td>where_is_my_order</td>\n      <td>It's getting frustrating not knowing where my ...</td>\n    </tr>\n    <tr>\n      <th>3</th>\n      <td>where_is_my_order</td>\n      <td>Hey, I recently ordered a custom mechanical ke...</td>\n    </tr>\n    <tr>\n      <th>4</th>\n      <td>where_is_my_order</td>\n      <td>Hello, I haven't received any updates regardin...</td>\n    </tr>\n    <tr>\n      <th>...</th>\n      <td>...</td>\n      <td>...</td>\n    </tr>\n    <tr>\n      <th>163</th>\n      <td>where_is_my_order</td>\n      <td>Dear Support,\\nI ordered a custom mech keyboar...</td>\n    </tr>\n    <tr>\n      <th>164</th>\n      <td>where_is_my_order</td>\n      <td>Hi, I ordered a custom mechanical keyboard fro...</td>\n    </tr>\n    <tr>\n      <th>165</th>\n      <td>where_is_my_order</td>\n      <td>Dear Customer Support Team,\\n\\nI have recently...</td>\n    </tr>\n    <tr>\n      <th>166</th>\n      <td>where_is_my_order</td>\n      <td>Hello, just wondering when I should expect my ...</td>\n    </tr>\n    <tr>\n      <th>167</th>\n      <td>where_is_my_order</td>\n      <td>Hello, I placed an order for a custom mechanic...</td>\n    </tr>\n  </tbody>\n</table>\n<p>168 rows × 2 columns</p>\n</div>"
     },
     "execution_count": 136,
     "metadata": {},
     "output_type": "execute_result"
    }
   ],
   "source": [
    "dummy_data = pd.DataFrame({'category' : ['where_is_my_order'], 'question' : ['I have order with #123412 (123123) AASDAS #ASDAS']})\n",
    "wmo_filtered_dataset = pd.concat([dummy_data,wmo_filtered_dataset],ignore_index=True)\n",
    "wmo_filtered_dataset"
   ],
   "metadata": {
    "collapsed": false
   }
  },
  {
   "cell_type": "code",
   "execution_count": 137,
   "outputs": [
    {
     "data": {
      "text/plain": "              category                                           question   \n0    where_is_my_order   I have order with #123412 (123123) AASDAS #ASDAS  \\\n1    where_is_my_order  Hello, just checking in on the status of my or...   \n2    where_is_my_order  It's getting frustrating not knowing where my ...   \n3    where_is_my_order  Hey, I recently ordered a custom mechanical ke...   \n4    where_is_my_order  Hello, I haven't received any updates regardin...   \n..                 ...                                                ...   \n163  where_is_my_order  Dear Support,\\nI ordered a custom mech keyboar...   \n164  where_is_my_order  Hi, I ordered a custom mechanical keyboard fro...   \n165  where_is_my_order  Dear Customer Support Team,\\n\\nI have recently...   \n166  where_is_my_order  Hello, just wondering when I should expect my ...   \n167  where_is_my_order  Hello, I placed an order for a custom mechanic...   \n\n                                                tokens  \n0    [I, have, order, with, #123412, (123123), AASD...  \n1    [Hello,, just, checking, in, on, the, status, ...  \n2    [It's, getting, frustrating, not, knowing, whe...  \n3    [Hey,, I, recently, ordered, a, custom, mechan...  \n4    [Hello,, I, haven't, received, any, updates, r...  \n..                                                 ...  \n163  [Dear, Support,\\nI, ordered, a, custom, mech, ...  \n164  [Hi,, I, ordered, a, custom, mechanical, keybo...  \n165  [Dear, Customer, Support, Team,, I, have, rece...  \n166  [Hello,, just, wondering, when, I, should, exp...  \n167  [Hello,, I, placed, an, order, for, a, custom,...  \n\n[168 rows x 3 columns]",
      "text/html": "<div>\n<style scoped>\n    .dataframe tbody tr th:only-of-type {\n        vertical-align: middle;\n    }\n\n    .dataframe tbody tr th {\n        vertical-align: top;\n    }\n\n    .dataframe thead th {\n        text-align: right;\n    }\n</style>\n<table border=\"1\" class=\"dataframe\">\n  <thead>\n    <tr style=\"text-align: right;\">\n      <th></th>\n      <th>category</th>\n      <th>question</th>\n      <th>tokens</th>\n    </tr>\n  </thead>\n  <tbody>\n    <tr>\n      <th>0</th>\n      <td>where_is_my_order</td>\n      <td>I have order with #123412 (123123) AASDAS #ASDAS</td>\n      <td>[I, have, order, with, #123412, (123123), AASD...</td>\n    </tr>\n    <tr>\n      <th>1</th>\n      <td>where_is_my_order</td>\n      <td>Hello, just checking in on the status of my or...</td>\n      <td>[Hello,, just, checking, in, on, the, status, ...</td>\n    </tr>\n    <tr>\n      <th>2</th>\n      <td>where_is_my_order</td>\n      <td>It's getting frustrating not knowing where my ...</td>\n      <td>[It's, getting, frustrating, not, knowing, whe...</td>\n    </tr>\n    <tr>\n      <th>3</th>\n      <td>where_is_my_order</td>\n      <td>Hey, I recently ordered a custom mechanical ke...</td>\n      <td>[Hey,, I, recently, ordered, a, custom, mechan...</td>\n    </tr>\n    <tr>\n      <th>4</th>\n      <td>where_is_my_order</td>\n      <td>Hello, I haven't received any updates regardin...</td>\n      <td>[Hello,, I, haven't, received, any, updates, r...</td>\n    </tr>\n    <tr>\n      <th>...</th>\n      <td>...</td>\n      <td>...</td>\n      <td>...</td>\n    </tr>\n    <tr>\n      <th>163</th>\n      <td>where_is_my_order</td>\n      <td>Dear Support,\\nI ordered a custom mech keyboar...</td>\n      <td>[Dear, Support,\\nI, ordered, a, custom, mech, ...</td>\n    </tr>\n    <tr>\n      <th>164</th>\n      <td>where_is_my_order</td>\n      <td>Hi, I ordered a custom mechanical keyboard fro...</td>\n      <td>[Hi,, I, ordered, a, custom, mechanical, keybo...</td>\n    </tr>\n    <tr>\n      <th>165</th>\n      <td>where_is_my_order</td>\n      <td>Dear Customer Support Team,\\n\\nI have recently...</td>\n      <td>[Dear, Customer, Support, Team,, I, have, rece...</td>\n    </tr>\n    <tr>\n      <th>166</th>\n      <td>where_is_my_order</td>\n      <td>Hello, just wondering when I should expect my ...</td>\n      <td>[Hello,, just, wondering, when, I, should, exp...</td>\n    </tr>\n    <tr>\n      <th>167</th>\n      <td>where_is_my_order</td>\n      <td>Hello, I placed an order for a custom mechanic...</td>\n      <td>[Hello,, I, placed, an, order, for, a, custom,...</td>\n    </tr>\n  </tbody>\n</table>\n<p>168 rows × 3 columns</p>\n</div>"
     },
     "execution_count": 137,
     "metadata": {},
     "output_type": "execute_result"
    }
   ],
   "source": [
    "wmo_filtered_dataset['tokens'] = wmo_filtered_dataset['question'].str.split()\n",
    "wmo_filtered_dataset"
   ],
   "metadata": {
    "collapsed": false
   }
  },
  {
   "cell_type": "code",
   "execution_count": 138,
   "outputs": [],
   "source": [
    "import re\n",
    "regex_digit = r\"\\d\"\n",
    "regex_upper_case = r\"^[A-Z]{4,}$\"\n",
    "hashtag = r\"^#[A-Z]{4,}$\"\n",
    "def generate_tag_by_tokens(tokens:list)->list:\n",
    "    res = []\n",
    "    for token in tokens:\n",
    "        # print(token)\n",
    "        is_digit = re.search(regex_digit, token)\n",
    "        is_upper_case = re.search(regex_upper_case, token)\n",
    "        is_contains_hashtag = re.search(hashtag, token)\n",
    "        if is_digit or is_upper_case or is_contains_hashtag:\n",
    "            res.append(1)\n",
    "        else:\n",
    "            res.append(0)\n",
    "    return res"
   ],
   "metadata": {
    "collapsed": false
   }
  },
  {
   "cell_type": "markdown",
   "source": [],
   "metadata": {
    "collapsed": false
   }
  },
  {
   "cell_type": "code",
   "execution_count": 139,
   "outputs": [
    {
     "data": {
      "text/plain": "            category                                           question   \n0  where_is_my_order   I have order with #123412 (123123) AASDAS #ASDAS  \\\n1  where_is_my_order  Hello, just checking in on the status of my or...   \n2  where_is_my_order  It's getting frustrating not knowing where my ...   \n3  where_is_my_order  Hey, I recently ordered a custom mechanical ke...   \n4  where_is_my_order  Hello, I haven't received any updates regardin...   \n\n                                              tokens   \n0  [I, have, order, with, #123412, (123123), AASD...  \\\n1  [Hello,, just, checking, in, on, the, status, ...   \n2  [It's, getting, frustrating, not, knowing, whe...   \n3  [Hey,, I, recently, ordered, a, custom, mechan...   \n4  [Hello,, I, haven't, received, any, updates, r...   \n\n                                            ner_tags  \n0                           [0, 0, 0, 0, 1, 1, 1, 1]  \n1  [0, 0, 0, 0, 0, 0, 0, 0, 0, 0, 0, 0, 0, 0, 0, ...  \n2  [0, 0, 0, 0, 0, 0, 0, 0, 0, 0, 0, 0, 0, 0, 0, ...  \n3  [0, 0, 0, 0, 0, 0, 0, 0, 0, 0, 0, 0, 0, 0, 0, ...  \n4  [0, 0, 0, 0, 0, 0, 0, 0, 0, 0, 0, 0, 0, 0, 1, ...  ",
      "text/html": "<div>\n<style scoped>\n    .dataframe tbody tr th:only-of-type {\n        vertical-align: middle;\n    }\n\n    .dataframe tbody tr th {\n        vertical-align: top;\n    }\n\n    .dataframe thead th {\n        text-align: right;\n    }\n</style>\n<table border=\"1\" class=\"dataframe\">\n  <thead>\n    <tr style=\"text-align: right;\">\n      <th></th>\n      <th>category</th>\n      <th>question</th>\n      <th>tokens</th>\n      <th>ner_tags</th>\n    </tr>\n  </thead>\n  <tbody>\n    <tr>\n      <th>0</th>\n      <td>where_is_my_order</td>\n      <td>I have order with #123412 (123123) AASDAS #ASDAS</td>\n      <td>[I, have, order, with, #123412, (123123), AASD...</td>\n      <td>[0, 0, 0, 0, 1, 1, 1, 1]</td>\n    </tr>\n    <tr>\n      <th>1</th>\n      <td>where_is_my_order</td>\n      <td>Hello, just checking in on the status of my or...</td>\n      <td>[Hello,, just, checking, in, on, the, status, ...</td>\n      <td>[0, 0, 0, 0, 0, 0, 0, 0, 0, 0, 0, 0, 0, 0, 0, ...</td>\n    </tr>\n    <tr>\n      <th>2</th>\n      <td>where_is_my_order</td>\n      <td>It's getting frustrating not knowing where my ...</td>\n      <td>[It's, getting, frustrating, not, knowing, whe...</td>\n      <td>[0, 0, 0, 0, 0, 0, 0, 0, 0, 0, 0, 0, 0, 0, 0, ...</td>\n    </tr>\n    <tr>\n      <th>3</th>\n      <td>where_is_my_order</td>\n      <td>Hey, I recently ordered a custom mechanical ke...</td>\n      <td>[Hey,, I, recently, ordered, a, custom, mechan...</td>\n      <td>[0, 0, 0, 0, 0, 0, 0, 0, 0, 0, 0, 0, 0, 0, 0, ...</td>\n    </tr>\n    <tr>\n      <th>4</th>\n      <td>where_is_my_order</td>\n      <td>Hello, I haven't received any updates regardin...</td>\n      <td>[Hello,, I, haven't, received, any, updates, r...</td>\n      <td>[0, 0, 0, 0, 0, 0, 0, 0, 0, 0, 0, 0, 0, 0, 1, ...</td>\n    </tr>\n  </tbody>\n</table>\n</div>"
     },
     "execution_count": 139,
     "metadata": {},
     "output_type": "execute_result"
    }
   ],
   "source": [
    "wmo_filtered_dataset[\"ner_tags\"] = wmo_filtered_dataset[\"tokens\"].apply(lambda tokens: generate_tag_by_tokens(tokens))\n",
    "wmo_filtered_dataset.head()"
   ],
   "metadata": {
    "collapsed": false
   }
  },
  {
   "cell_type": "code",
   "execution_count": 141,
   "outputs": [],
   "source": [
    "# save to excel\n",
    "wmo_filtered_dataset.to_excel(\"../data/ner_dataset.xlsx\", index=False)"
   ],
   "metadata": {
    "collapsed": false
   }
  },
  {
   "cell_type": "code",
   "execution_count": 143,
   "outputs": [
    {
     "data": {
      "text/plain": "            category                                           question   \n0  where_is_my_order   I have order with #123412 (123123) AASDAS #ASDAS  \\\n1  where_is_my_order  Hello, just checking in on the status of my or...   \n2  where_is_my_order  It's getting frustrating not knowing where my ...   \n3  where_is_my_order  Hey, I recently ordered a custom mechanical ke...   \n4  where_is_my_order  Hello, I haven't received any updates regardin...   \n\n                                              tokens   \n0  ['I', 'have', 'order', 'with', '#123412', '(12...  \\\n1  ['Hello,', 'just', 'checking', 'in', 'on', 'th...   \n2  [\"It's\", 'getting', 'frustrating', 'not', 'kno...   \n3  ['Hey,', 'I', 'recently', 'ordered', 'a', 'cus...   \n4  ['Hello,', 'I', \"haven't\", 'received', 'any', ...   \n\n                                            ner_tags  \n0                           [0, 0, 0, 0, 1, 1, 1, 1]  \n1  [0, 0, 0, 0, 0, 0, 0, 0, 0, 0, 0, 0, 0, 0, 0, ...  \n2  [0, 0, 0, 0, 0, 0, 0, 0, 0, 0, 0, 0, 0, 0, 0, ...  \n3  [0, 0, 0, 0, 0, 0, 0, 0, 0, 0, 0, 0, 0, 0, 0, ...  \n4  [0, 0, 0, 0, 0, 0, 0, 0, 0, 0, 0, 0, 0, 0, 1, ...  ",
      "text/html": "<div>\n<style scoped>\n    .dataframe tbody tr th:only-of-type {\n        vertical-align: middle;\n    }\n\n    .dataframe tbody tr th {\n        vertical-align: top;\n    }\n\n    .dataframe thead th {\n        text-align: right;\n    }\n</style>\n<table border=\"1\" class=\"dataframe\">\n  <thead>\n    <tr style=\"text-align: right;\">\n      <th></th>\n      <th>category</th>\n      <th>question</th>\n      <th>tokens</th>\n      <th>ner_tags</th>\n    </tr>\n  </thead>\n  <tbody>\n    <tr>\n      <th>0</th>\n      <td>where_is_my_order</td>\n      <td>I have order with #123412 (123123) AASDAS #ASDAS</td>\n      <td>['I', 'have', 'order', 'with', '#123412', '(12...</td>\n      <td>[0, 0, 0, 0, 1, 1, 1, 1]</td>\n    </tr>\n    <tr>\n      <th>1</th>\n      <td>where_is_my_order</td>\n      <td>Hello, just checking in on the status of my or...</td>\n      <td>['Hello,', 'just', 'checking', 'in', 'on', 'th...</td>\n      <td>[0, 0, 0, 0, 0, 0, 0, 0, 0, 0, 0, 0, 0, 0, 0, ...</td>\n    </tr>\n    <tr>\n      <th>2</th>\n      <td>where_is_my_order</td>\n      <td>It's getting frustrating not knowing where my ...</td>\n      <td>[\"It's\", 'getting', 'frustrating', 'not', 'kno...</td>\n      <td>[0, 0, 0, 0, 0, 0, 0, 0, 0, 0, 0, 0, 0, 0, 0, ...</td>\n    </tr>\n    <tr>\n      <th>3</th>\n      <td>where_is_my_order</td>\n      <td>Hey, I recently ordered a custom mechanical ke...</td>\n      <td>['Hey,', 'I', 'recently', 'ordered', 'a', 'cus...</td>\n      <td>[0, 0, 0, 0, 0, 0, 0, 0, 0, 0, 0, 0, 0, 0, 0, ...</td>\n    </tr>\n    <tr>\n      <th>4</th>\n      <td>where_is_my_order</td>\n      <td>Hello, I haven't received any updates regardin...</td>\n      <td>['Hello,', 'I', \"haven't\", 'received', 'any', ...</td>\n      <td>[0, 0, 0, 0, 0, 0, 0, 0, 0, 0, 0, 0, 0, 0, 1, ...</td>\n    </tr>\n  </tbody>\n</table>\n</div>"
     },
     "execution_count": 143,
     "metadata": {},
     "output_type": "execute_result"
    }
   ],
   "source": [
    "# load dataset cleaned\n",
    "cleaned_data_path = \"../data/ner-dataset-cleaned.xlsx\"\n",
    "ner_dataset = pd.read_excel(cleaned_data_path)\n",
    "ner_dataset.head()"
   ],
   "metadata": {
    "collapsed": false
   }
  },
  {
   "cell_type": "code",
   "execution_count": 10,
   "outputs": [
    {
     "data": {
      "text/plain": "Downloading (…)okenizer_config.json:   0%|          | 0.00/28.0 [00:00<?, ?B/s]",
      "application/vnd.jupyter.widget-view+json": {
       "version_major": 2,
       "version_minor": 0,
       "model_id": "9846a52150d34c339c36f081ede16a99"
      }
     },
     "metadata": {},
     "output_type": "display_data"
    },
    {
     "data": {
      "text/plain": "Downloading (…)lve/main/config.json:   0%|          | 0.00/483 [00:00<?, ?B/s]",
      "application/vnd.jupyter.widget-view+json": {
       "version_major": 2,
       "version_minor": 0,
       "model_id": "d009ddd66c694103ba600be7a7e0a171"
      }
     },
     "metadata": {},
     "output_type": "display_data"
    },
    {
     "data": {
      "text/plain": "Downloading (…)solve/main/vocab.txt:   0%|          | 0.00/232k [00:00<?, ?B/s]",
      "application/vnd.jupyter.widget-view+json": {
       "version_major": 2,
       "version_minor": 0,
       "model_id": "b78cb8e227154fc789b0df6b65443083"
      }
     },
     "metadata": {},
     "output_type": "display_data"
    },
    {
     "data": {
      "text/plain": "Downloading (…)/main/tokenizer.json:   0%|          | 0.00/466k [00:00<?, ?B/s]",
      "application/vnd.jupyter.widget-view+json": {
       "version_major": 2,
       "version_minor": 0,
       "model_id": "b89fd10b3f1c42e0ab670149be1504f7"
      }
     },
     "metadata": {},
     "output_type": "display_data"
    }
   ],
   "source": [
    "model_checkpoint = \"distilbert-base-uncased\"\n",
    "from transformers import AutoTokenizer\n",
    "\n",
    "tokenizer = AutoTokenizer.from_pretrained(model_checkpoint)"
   ],
   "metadata": {
    "collapsed": false
   }
  },
  {
   "cell_type": "code",
   "execution_count": 15,
   "outputs": [
    {
     "data": {
      "text/plain": "{'input_ids': [101, 7592, 1010, 2074, 9361, 1999, 2006, 1996, 3570, 1997, 2026, 2344, 2004, 2009, 2038, 2042, 2058, 1037, 2733, 2144, 2026, 5309, 1998, 2145, 2053, 14409, 1012, 2115, 25732, 3433, 2052, 2022, 6551, 12315, 1012, 4283, 1012, 102], 'attention_mask': [1, 1, 1, 1, 1, 1, 1, 1, 1, 1, 1, 1, 1, 1, 1, 1, 1, 1, 1, 1, 1, 1, 1, 1, 1, 1, 1, 1, 1, 1, 1, 1, 1, 1, 1, 1, 1, 1]}"
     },
     "execution_count": 15,
     "metadata": {},
     "output_type": "execute_result"
    }
   ],
   "source": [
    "tokenizer(wmo_filtered_dataset['email'][0])"
   ],
   "metadata": {
    "collapsed": false
   }
  },
  {
   "cell_type": "code",
   "execution_count": null,
   "outputs": [],
   "source": [],
   "metadata": {
    "collapsed": false
   }
  }
 ],
 "metadata": {
  "kernelspec": {
   "display_name": "Python 3",
   "language": "python",
   "name": "python3"
  },
  "language_info": {
   "codemirror_mode": {
    "name": "ipython",
    "version": 2
   },
   "file_extension": ".py",
   "mimetype": "text/x-python",
   "name": "python",
   "nbconvert_exporter": "python",
   "pygments_lexer": "ipython2",
   "version": "2.7.6"
  }
 },
 "nbformat": 4,
 "nbformat_minor": 0
}
